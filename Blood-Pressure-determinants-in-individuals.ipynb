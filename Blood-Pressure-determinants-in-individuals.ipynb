{
 "cells": [
  {
   "cell_type": "code",
   "execution_count": 153,
   "id": "4d5c8eba-feb1-441d-86df-814fb461f548",
   "metadata": {},
   "outputs": [],
   "source": [
    "import pandas as pd\n",
    "import matplotlib.pyplot as plt\n",
    "import seaborn as sns\n",
    "import plotly.express as px\n",
    "from sklearn.model_selection import train_test_split\n",
    "from sklearn.metrics import accuracy_score\n",
    "from sklearn.pipeline import Pipeline, make_pipeline\n",
    "from sklearn.tree import DecisionTreeClassifier\n",
    "from sklearn.impute import SimpleImputer\n",
    "from sklearn.preprocessing import OneHotEncoder, StandardScaler\n",
    "from sklearn.compose import ColumnTransformer"
   ]
  },
  {
   "cell_type": "code",
   "execution_count": 160,
   "id": "092dd0bf-c7a2-404f-8800-1334455d8c17",
   "metadata": {},
   "outputs": [],
   "source": [
    "def wrangle(filepath):\n",
    "    df = pd.read_csv(filepath)\n",
    "    \n",
    "    # Drop all Unnamed columns\n",
    "    cols = [\"Unnamed: 13\", \"Unnamed: 14\", \"Unnamed: 15\", \"Unnamed: 16\",\"Unnamed: 17\"]\n",
    "    for col in cols:\n",
    "        if col in df.columns:\n",
    "            del df[col]\n",
    "    # Drop \"Person ID\" column with too high cardinality\n",
    "    df.drop(columns= \"Person ID\", inplace=True)\n",
    "    \n",
    "    # Drop \"Gender\" and \"Sleep Disoder\" columns with too low cardinality\n",
    "    df.drop(columns=[\"Gender\", \"Sleep Disorder\"], inplace=True)\n",
    "\n",
    "    # Slip values in column \"Blood Pressure\" into \"sys_value\" and \"dia_value\" to determine Target Vector\n",
    "    df[[\"sys_value\", \"dia_value\"]] = df[\"Blood Pressure\"].str.split(\"/\", expand=True).astype(int)\n",
    "\n",
    "    # Drop \"Blood Pressure\" & \"sys_value\" columns\n",
    "    df.drop(columns=[\"Blood Pressure\", \"sys_value\"], inplace=True)\n",
    "\n",
    "    # let's make our Target Vector column a boolean value\n",
    "    df[\"dia_value\"] = (df[\"dia_value\"]>80).astype(int)\n",
    "    \n",
    "    df.drop(columns= [\"Occupation\"], inplace=True)\n",
    "\n",
    "    \n",
    "\n",
    "\n",
    "    \n",
    "\n",
    "   \n",
    "\n",
    "\n",
    "    return df"
   ]
  },
  {
   "cell_type": "code",
   "execution_count": 155,
   "id": "ae80a140-5d41-4a1f-968e-2df3f7866302",
   "metadata": {},
   "outputs": [],
   "source": [
    "filepath = \"Blood-Pressure-determinants-in-individuals.csv\""
   ]
  },
  {
   "cell_type": "code",
   "execution_count": 161,
   "id": "0f36ca0f-5ccd-4114-90df-b33e5b8678d9",
   "metadata": {},
   "outputs": [
    {
     "data": {
      "text/html": [
       "<div>\n",
       "<style scoped>\n",
       "    .dataframe tbody tr th:only-of-type {\n",
       "        vertical-align: middle;\n",
       "    }\n",
       "\n",
       "    .dataframe tbody tr th {\n",
       "        vertical-align: top;\n",
       "    }\n",
       "\n",
       "    .dataframe thead th {\n",
       "        text-align: right;\n",
       "    }\n",
       "</style>\n",
       "<table border=\"1\" class=\"dataframe\">\n",
       "  <thead>\n",
       "    <tr style=\"text-align: right;\">\n",
       "      <th></th>\n",
       "      <th>Age</th>\n",
       "      <th>Sleep Duration</th>\n",
       "      <th>Quality of Sleep</th>\n",
       "      <th>Physical Activity Level</th>\n",
       "      <th>Stress Level</th>\n",
       "      <th>BMI Category</th>\n",
       "      <th>Heart Rate</th>\n",
       "      <th>Daily Steps</th>\n",
       "      <th>dia_value</th>\n",
       "    </tr>\n",
       "  </thead>\n",
       "  <tbody>\n",
       "    <tr>\n",
       "      <th>0</th>\n",
       "      <td>27</td>\n",
       "      <td>6.1</td>\n",
       "      <td>6</td>\n",
       "      <td>42</td>\n",
       "      <td>6</td>\n",
       "      <td>Overweight</td>\n",
       "      <td>77</td>\n",
       "      <td>4200</td>\n",
       "      <td>1</td>\n",
       "    </tr>\n",
       "    <tr>\n",
       "      <th>1</th>\n",
       "      <td>28</td>\n",
       "      <td>6.2</td>\n",
       "      <td>6</td>\n",
       "      <td>60</td>\n",
       "      <td>8</td>\n",
       "      <td>Normal</td>\n",
       "      <td>75</td>\n",
       "      <td>10000</td>\n",
       "      <td>0</td>\n",
       "    </tr>\n",
       "    <tr>\n",
       "      <th>2</th>\n",
       "      <td>28</td>\n",
       "      <td>6.2</td>\n",
       "      <td>6</td>\n",
       "      <td>60</td>\n",
       "      <td>8</td>\n",
       "      <td>Normal</td>\n",
       "      <td>75</td>\n",
       "      <td>10000</td>\n",
       "      <td>0</td>\n",
       "    </tr>\n",
       "    <tr>\n",
       "      <th>3</th>\n",
       "      <td>28</td>\n",
       "      <td>5.9</td>\n",
       "      <td>4</td>\n",
       "      <td>30</td>\n",
       "      <td>8</td>\n",
       "      <td>Obese</td>\n",
       "      <td>85</td>\n",
       "      <td>3000</td>\n",
       "      <td>1</td>\n",
       "    </tr>\n",
       "    <tr>\n",
       "      <th>4</th>\n",
       "      <td>28</td>\n",
       "      <td>5.9</td>\n",
       "      <td>4</td>\n",
       "      <td>30</td>\n",
       "      <td>8</td>\n",
       "      <td>Obese</td>\n",
       "      <td>85</td>\n",
       "      <td>3000</td>\n",
       "      <td>1</td>\n",
       "    </tr>\n",
       "  </tbody>\n",
       "</table>\n",
       "</div>"
      ],
      "text/plain": [
       "   Age  Sleep Duration  Quality of Sleep  Physical Activity Level  \\\n",
       "0   27             6.1                 6                       42   \n",
       "1   28             6.2                 6                       60   \n",
       "2   28             6.2                 6                       60   \n",
       "3   28             5.9                 4                       30   \n",
       "4   28             5.9                 4                       30   \n",
       "\n",
       "   Stress Level BMI Category  Heart Rate  Daily Steps  dia_value  \n",
       "0             6   Overweight          77         4200          1  \n",
       "1             8       Normal          75        10000          0  \n",
       "2             8       Normal          75        10000          0  \n",
       "3             8        Obese          85         3000          1  \n",
       "4             8        Obese          85         3000          1  "
      ]
     },
     "execution_count": 161,
     "metadata": {},
     "output_type": "execute_result"
    }
   ],
   "source": [
    "df = wrangle(filepath)\n",
    "df.head()"
   ]
  },
  {
   "cell_type": "code",
   "execution_count": 91,
   "id": "1d10c64c-b1be-4315-b830-c3cd06dc2401",
   "metadata": {},
   "outputs": [],
   "source": [
    "# Drop all Unnamed columns using for loop\n",
    "cols = [\"Unnamed: 13\", \"Unnamed: 14\", \"Unnamed: 15\", \"Unnamed: 16\",\"Unnamed: 17\"]\n",
    "for col in cols:\n",
    "    if col in df.columns:\n",
    "        del df[col]   "
   ]
  },
  {
   "cell_type": "code",
   "execution_count": 157,
   "id": "00502011-5c27-444c-8323-a748553904a5",
   "metadata": {},
   "outputs": [
    {
     "data": {
      "text/plain": [
       "Age                        31\n",
       "Sleep Duration             27\n",
       "Quality of Sleep            6\n",
       "Physical Activity Level    16\n",
       "Stress Level                6\n",
       "Heart Rate                 19\n",
       "Daily Steps                20\n",
       "dia_value                   2\n",
       "dtype: int64"
      ]
     },
     "execution_count": 157,
     "metadata": {},
     "output_type": "execute_result"
    }
   ],
   "source": [
    "# Check columns with 'number' data type that has too high or too low cardinality\n",
    "df.select_dtypes(\"number\").nunique()"
   ]
  },
  {
   "cell_type": "code",
   "execution_count": 159,
   "id": "03b5ee50-1cd9-4ccf-b2b8-f8eb1b71d45c",
   "metadata": {},
   "outputs": [],
   "source": [
    "# Drop \"Person ID\" column with too high cardinality\n",
    "df.drop(columns= [\"Occupation\"], inplace=True)"
   ]
  },
  {
   "cell_type": "code",
   "execution_count": 101,
   "id": "7cb9b156-965d-4a90-8c16-28b945641dba",
   "metadata": {},
   "outputs": [
    {
     "data": {
      "text/plain": [
       "Occupation      11\n",
       "BMI Category     4\n",
       "dtype: int64"
      ]
     },
     "execution_count": 101,
     "metadata": {},
     "output_type": "execute_result"
    }
   ],
   "source": [
    "# Check columns with 'object' data type that has too high or too low cardinality\n",
    "df.select_dtypes(\"object\").nunique()"
   ]
  },
  {
   "cell_type": "code",
   "execution_count": 15,
   "id": "1c574300-0955-4068-a7b5-adac1bf356cb",
   "metadata": {},
   "outputs": [],
   "source": [
    "# Drop \"Gender\" and \"Sleep Disoder\" columns with too low cardinality\n",
    "df.drop(columns=[\"Gender\", \"Sleep Disorder\"], inplace=True)"
   ]
  },
  {
   "cell_type": "code",
   "execution_count": 92,
   "id": "ee969a57-4d1a-4ff8-a65b-aa1e61b2bb41",
   "metadata": {},
   "outputs": [],
   "source": [
    "# Slip values in column \"Blood Pressure\" into \"sys_value\" and \"dia_value\" to determine Target Vector\n",
    "df[[\"sys_value\", \"dia_value\"]] = df[\"Blood Pressure\"].str.split(\"/\", expand=True).astype(int)"
   ]
  },
  {
   "cell_type": "code",
   "execution_count": 95,
   "id": "711c3d07-8e8e-4fcb-adae-61c5f521b101",
   "metadata": {},
   "outputs": [],
   "source": [
    "# Drop \"Blood Pressure\" & \"sys_value\" columns\n",
    "df.drop(columns=[\"Blood Pressure\", \"sys_value\"], inplace=True)"
   ]
  },
  {
   "cell_type": "code",
   "execution_count": 36,
   "id": "8547c603-ca51-4b6d-a25d-2a1a9b54ae6e",
   "metadata": {},
   "outputs": [
    {
     "data": {
      "image/png": "[encoded data removed]",
      "text/plain": [
       "<Figure size 640x480 with 2 Axes>"
      ]
     },
     "metadata": {},
     "output_type": "display_data"
    }
   ],
   "source": [
    "# Create correlation table to show relationship among 'number' data types without Target Vector 'dia_value'\n",
    "# to show multicollinearity\n",
    "corr = df.select_dtypes(\"number\").drop(columns=\"dia_value\").corr()\n",
    "sns.heatmap(corr);"
   ]
  },
  {
   "cell_type": "code",
   "execution_count": 86,
   "id": "d1f4cb12-6f21-4e0a-b6c7-c47284b5236b",
   "metadata": {},
   "outputs": [
    {
     "name": "stdout",
     "output_type": "stream",
     "text": [
      "<class 'pandas.core.frame.DataFrame'>\n",
      "RangeIndex: 374 entries, 0 to 373\n",
      "Data columns (total 10 columns):\n",
      " #   Column                   Non-Null Count  Dtype  \n",
      "---  ------                   --------------  -----  \n",
      " 0   Age                      374 non-null    int64  \n",
      " 1   Occupation               374 non-null    object \n",
      " 2   Sleep Duration           374 non-null    float64\n",
      " 3   Quality of Sleep         374 non-null    int64  \n",
      " 4   Physical Activity Level  374 non-null    int64  \n",
      " 5   Stress Level             374 non-null    int64  \n",
      " 6   BMI Category             374 non-null    object \n",
      " 7   Heart Rate               374 non-null    int64  \n",
      " 8   Daily Steps              374 non-null    int64  \n",
      " 9   dia_value                374 non-null    int64  \n",
      "dtypes: float64(1), int64(7), object(2)\n",
      "memory usage: 29.3+ KB\n"
     ]
    }
   ],
   "source": [
    "df.info()"
   ]
  },
  {
   "cell_type": "code",
   "execution_count": 31,
   "id": "43bf978f-34aa-4fe9-a355-2a2dcc36f674",
   "metadata": {},
   "outputs": [
    {
     "data": {
      "image/png": "[encoded data removed]",
      "text/plain": [
       "<Figure size 640x480 with 1 Axes>"
      ]
     },
     "metadata": {},
     "output_type": "display_data"
    }
   ],
   "source": [
    "# Visualize relationship between \"BMI Category\" and \"dia_value\" with bar chart\n",
    "sns.barplot(x=\"BMI Category\", y=\"dia_value\", data=df);"
   ]
  },
  {
   "cell_type": "code",
   "execution_count": 34,
   "id": "7c6038cc-5a74-4641-9dbd-3fd3b7f202b9",
   "metadata": {},
   "outputs": [
    {
     "data": {
      "image/png": "[encoded data removed]",
      "text/plain": [
       "<Figure size 640x480 with 1 Axes>"
      ]
     },
     "metadata": {},
     "output_type": "display_data"
    }
   ],
   "source": [
    "# Visualize distribution of Diastolic Pressure Value \"dia_value\" with histogram\n",
    "plt.hist(df[\"dia_value\"])\n",
    "plt.xlabel(\"Diastolic Values\")\n",
    "plt.ylabel(\"Frequency\")\n",
    "plt.title(\"Distribution of Diastolic Pressure Values\");"
   ]
  },
  {
   "cell_type": "code",
   "execution_count": 98,
   "id": "5c033e20-6726-4b4b-90ca-045c50af6831",
   "metadata": {},
   "outputs": [
    {
     "data": {
      "text/plain": [
       "0    1\n",
       "1    0\n",
       "2    0\n",
       "3    1\n",
       "4    1\n",
       "Name: dia_value, dtype: int64"
      ]
     },
     "execution_count": 98,
     "metadata": {},
     "output_type": "execute_result"
    }
   ],
   "source": [
    "# let's make our Target Vector column a boolean value(above 80 is 1 & below 80 is 0)\n",
    "(df[\"dia_value\"]>80).astype(int).head()"
   ]
  },
  {
   "cell_type": "code",
   "execution_count": 102,
   "id": "5b0222f9-c770-4e8c-8e6c-6287a33eae76",
   "metadata": {},
   "outputs": [
    {
     "data": {
      "text/plain": [
       "dia_value\n",
       "1    0.590909\n",
       "0    0.409091\n",
       "Name: proportion, dtype: float64"
      ]
     },
     "execution_count": 102,
     "metadata": {},
     "output_type": "execute_result"
    }
   ],
   "source": [
    "# Show the fraction of the \"dia_value\" with high and low values\n",
    "df[\"dia_value\"].value_counts(normalize=True)"
   ]
  },
  {
   "cell_type": "code",
   "execution_count": 103,
   "id": "116ee091-b64b-4c2a-97d1-8fbc51edc674",
   "metadata": {},
   "outputs": [
    {
     "data": {
      "image/png": "[encoded data removed]",
      "text/plain": [
       "<Figure size 640x480 with 1 Axes>"
      ]
     },
     "metadata": {},
     "output_type": "display_data"
    }
   ],
   "source": [
    "(df[\"dia_value\"].value_counts(normalize=True)).plot(kind= \"bar\",\n",
    "        xlabel=\"dia_value\", ylabel=\"Frequency\", title=\"Class Balance\");"
   ]
  },
  {
   "cell_type": "code",
   "execution_count": 162,
   "id": "6789351a-c823-4f33-9934-95cb4846715a",
   "metadata": {},
   "outputs": [
    {
     "name": "stdout",
     "output_type": "stream",
     "text": [
      "X shape (374, 8)\n",
      "y shape (374,)\n"
     ]
    }
   ],
   "source": [
    "# Split the dataset into Feature Matrix \"X\" and Target Vector \"y\"\n",
    "target = \"dia_value\"\n",
    "X = df.drop(columns=\"dia_value\", axis=1)\n",
    "y = df[target]\n",
    "\n",
    "print(\"X shape\", X.shape)\n",
    "print(\"y shape\", y.shape)"
   ]
  },
  {
   "cell_type": "code",
   "execution_count": 163,
   "id": "4758086f-ad8d-42eb-acef-f331e5fc3e9b",
   "metadata": {},
   "outputs": [
    {
     "name": "stdout",
     "output_type": "stream",
     "text": [
      "X_train: shape  (299, 8)\n",
      "X_test: shape  (75, 8)\n",
      "y_train: shape  (299,)\n",
      "X_test: shape  (75, 8)\n"
     ]
    }
   ],
   "source": [
    "# Split dataset (X and y) into training and test sets, set validation to 20%\n",
    "X_train, X_test, y_train, y_test = train_test_split(X, y, test_size= 0.2, random_state=42)\n",
    "\n",
    "print(\"X_train: shape \", X_train.shape)\n",
    "print(\"X_test: shape \", X_test.shape)\n",
    "print(\"y_train: shape \", y_train.shape)\n",
    "print(\"X_test: shape \", X_test.shape)"
   ]
  },
  {
   "cell_type": "code",
   "execution_count": 120,
   "id": "90b9434c-17c3-41e5-be3d-f3cd8a3acb45",
   "metadata": {},
   "outputs": [],
   "source": [
    "# LET'S START BUILDING OUR MODEL"
   ]
  },
  {
   "cell_type": "code",
   "execution_count": 164,
   "id": "799fcc0d-0d03-45d0-b97a-2272eaf41105",
   "metadata": {},
   "outputs": [],
   "source": [
    "# Assign Categorical and Numerical columns to 'cat_cols' & 'num_cols' respectively\n",
    "cat_cols = [\"BMI Category\"]\n",
    "num_cols = [\"Age\", \"Sleep Duration\", \"Physical Activity Level\", \n",
    "            \"Quality of Sleep\", \"Stress Level\", \"Daily Steps\", \"Heart Rate\"]"
   ]
  },
  {
   "cell_type": "code",
   "execution_count": 165,
   "id": "1ce14359-c890-427e-8597-10be8754a6bc",
   "metadata": {},
   "outputs": [],
   "source": [
    "# Let's define our transformer\n",
    "transformers = [(\"cat\", OneHotEncoder(), cat_cols),\n",
    "                (\"num\", StandardScaler(), num_cols)\n",
    "]"
   ]
  },
  {
   "cell_type": "code",
   "execution_count": 166,
   "id": "955fee2f-2da4-4eef-b2a1-9851e83000ca",
   "metadata": {},
   "outputs": [],
   "source": [
    "# Create columntransformer and assign to 'preprocessor'\n",
    "preprocessor = ColumnTransformer(transformers=transformers)"
   ]
  },
  {
   "cell_type": "code",
   "execution_count": 167,
   "id": "992c9492-43e4-427c-9208-dde40b613faf",
   "metadata": {},
   "outputs": [],
   "source": [
    "# Define 'model_dia' with the preprocessor and classifier\n",
    "model_dia = Pipeline(steps=[(\"preprocessor\", preprocessor),\n",
    "                           (\"classifier\", DecisionTreeClassifier(random_state=42))]\n",
    "    \n",
    ")"
   ]
  },
  {
   "cell_type": "code",
   "execution_count": 168,
   "id": "102daa1f-5006-4e5e-aa3d-fb8ca23d2b2f",
   "metadata": {},
   "outputs": [
    {
     "data": {
      "text/html": [
       "<style>#sk-container-id-2 {\n",
       "  /* Definition of color scheme common for light and dark mode */\n",
       "  --sklearn-color-text: black;\n",
       "  --sklearn-color-line: gray;\n",
       "  /* Definition of color scheme for unfitted estimators */\n",
       "  --sklearn-color-unfitted-level-0: #fff5e6;\n",
       "  --sklearn-color-unfitted-level-1: #f6e4d2;\n",
       "  --sklearn-color-unfitted-level-2: #ffe0b3;\n",
       "  --sklearn-color-unfitted-level-3: chocolate;\n",
       "  /* Definition of color scheme for fitted estimators */\n",
       "  --sklearn-color-fitted-level-0: #f0f8ff;\n",
       "  --sklearn-color-fitted-level-1: #d4ebff;\n",
       "  --sklearn-color-fitted-level-2: #b3dbfd;\n",
       "  --sklearn-color-fitted-level-3: cornflowerblue;\n",
       "\n",
       "  /* Specific color for light theme */\n",
       "  --sklearn-color-text-on-default-background: var(--sg-text-color, var(--theme-code-foreground, var(--jp-content-font-color1, black)));\n",
       "  --sklearn-color-background: var(--sg-background-color, var(--theme-background, var(--jp-layout-color0, white)));\n",
       "  --sklearn-color-border-box: var(--sg-text-color, var(--theme-code-foreground, var(--jp-content-font-color1, black)));\n",
       "  --sklearn-color-icon: #696969;\n",
       "\n",
       "  @media (prefers-color-scheme: dark) {\n",
       "    /* Redefinition of color scheme for dark theme */\n",
       "    --sklearn-color-text-on-default-background: var(--sg-text-color, var(--theme-code-foreground, var(--jp-content-font-color1, white)));\n",
       "    --sklearn-color-background: var(--sg-background-color, var(--theme-background, var(--jp-layout-color0, #111)));\n",
       "    --sklearn-color-border-box: var(--sg-text-color, var(--theme-code-foreground, var(--jp-content-font-color1, white)));\n",
       "    --sklearn-color-icon: #878787;\n",
       "  }\n",
       "}\n",
       "\n",
       "#sk-container-id-2 {\n",
       "  color: var(--sklearn-color-text);\n",
       "}\n",
       "\n",
       "#sk-container-id-2 pre {\n",
       "  padding: 0;\n",
       "}\n",
       "\n",
       "#sk-container-id-2 input.sk-hidden--visually {\n",
       "  border: 0;\n",
       "  clip: rect(1px 1px 1px 1px);\n",
       "  clip: rect(1px, 1px, 1px, 1px);\n",
       "  height: 1px;\n",
       "  margin: -1px;\n",
       "  overflow: hidden;\n",
       "  padding: 0;\n",
       "  position: absolute;\n",
       "  width: 1px;\n",
       "}\n",
       "\n",
       "#sk-container-id-2 div.sk-dashed-wrapped {\n",
       "  border: 1px dashed var(--sklearn-color-line);\n",
       "  margin: 0 0.4em 0.5em 0.4em;\n",
       "  box-sizing: border-box;\n",
       "  padding-bottom: 0.4em;\n",
       "  background-color: var(--sklearn-color-background);\n",
       "}\n",
       "\n",
       "#sk-container-id-2 div.sk-container {\n",
       "  /* jupyter's `normalize.less` sets `[hidden] { display: none; }`\n",
       "     but bootstrap.min.css set `[hidden] { display: none !important; }`\n",
       "     so we also need the `!important` here to be able to override the\n",
       "     default hidden behavior on the sphinx rendered scikit-learn.org.\n",
       "     See: https://github.com/scikit-learn/scikit-learn/issues/21755 */\n",
       "  display: inline-block !important;\n",
       "  position: relative;\n",
       "}\n",
       "\n",
       "#sk-container-id-2 div.sk-text-repr-fallback {\n",
       "  display: none;\n",
       "}\n",
       "\n",
       "div.sk-parallel-item,\n",
       "div.sk-serial,\n",
       "div.sk-item {\n",
       "  /* draw centered vertical line to link estimators */\n",
       "  background-image: linear-gradient(var(--sklearn-color-text-on-default-background), var(--sklearn-color-text-on-default-background));\n",
       "  background-size: 2px 100%;\n",
       "  background-repeat: no-repeat;\n",
       "  background-position: center center;\n",
       "}\n",
       "\n",
       "/* Parallel-specific style estimator block */\n",
       "\n",
       "#sk-container-id-2 div.sk-parallel-item::after {\n",
       "  content: \"\";\n",
       "  width: 100%;\n",
       "  border-bottom: 2px solid var(--sklearn-color-text-on-default-background);\n",
       "  flex-grow: 1;\n",
       "}\n",
       "\n",
       "#sk-container-id-2 div.sk-parallel {\n",
       "  display: flex;\n",
       "  align-items: stretch;\n",
       "  justify-content: center;\n",
       "  background-color: var(--sklearn-color-background);\n",
       "  position: relative;\n",
       "}\n",
       "\n",
       "#sk-container-id-2 div.sk-parallel-item {\n",
       "  display: flex;\n",
       "  flex-direction: column;\n",
       "}\n",
       "\n",
       "#sk-container-id-2 div.sk-parallel-item:first-child::after {\n",
       "  align-self: flex-end;\n",
       "  width: 50%;\n",
       "}\n",
       "\n",
       "#sk-container-id-2 div.sk-parallel-item:last-child::after {\n",
       "  align-self: flex-start;\n",
       "  width: 50%;\n",
       "}\n",
       "\n",
       "#sk-container-id-2 div.sk-parallel-item:only-child::after {\n",
       "  width: 0;\n",
       "}\n",
       "\n",
       "/* Serial-specific style estimator block */\n",
       "\n",
       "#sk-container-id-2 div.sk-serial {\n",
       "  display: flex;\n",
       "  flex-direction: column;\n",
       "  align-items: center;\n",
       "  background-color: var(--sklearn-color-background);\n",
       "  padding-right: 1em;\n",
       "  padding-left: 1em;\n",
       "}\n",
       "\n",
       "\n",
       "/* Toggleable style: style used for estimator/Pipeline/ColumnTransformer box that is\n",
       "clickable and can be expanded/collapsed.\n",
       "- Pipeline and ColumnTransformer use this feature and define the default style\n",
       "- Estimators will overwrite some part of the style using the `sk-estimator` class\n",
       "*/\n",
       "\n",
       "/* Pipeline and ColumnTransformer style (default) */\n",
       "\n",
       "#sk-container-id-2 div.sk-toggleable {\n",
       "  /* Default theme specific background. It is overwritten whether we have a\n",
       "  specific estimator or a Pipeline/ColumnTransformer */\n",
       "  background-color: var(--sklearn-color-background);\n",
       "}\n",
       "\n",
       "/* Toggleable label */\n",
       "#sk-container-id-2 label.sk-toggleable__label {\n",
       "  cursor: pointer;\n",
       "  display: block;\n",
       "  width: 100%;\n",
       "  margin-bottom: 0;\n",
       "  padding: 0.5em;\n",
       "  box-sizing: border-box;\n",
       "  text-align: center;\n",
       "}\n",
       "\n",
       "#sk-container-id-2 label.sk-toggleable__label-arrow:before {\n",
       "  /* Arrow on the left of the label */\n",
       "  content: \"▸\";\n",
       "  float: left;\n",
       "  margin-right: 0.25em;\n",
       "  color: var(--sklearn-color-icon);\n",
       "}\n",
       "\n",
       "#sk-container-id-2 label.sk-toggleable__label-arrow:hover:before {\n",
       "  color: var(--sklearn-color-text);\n",
       "}\n",
       "\n",
       "/* Toggleable content - dropdown */\n",
       "\n",
       "#sk-container-id-2 div.sk-toggleable__content {\n",
       "  max-height: 0;\n",
       "  max-width: 0;\n",
       "  overflow: hidden;\n",
       "  text-align: left;\n",
       "  /* unfitted */\n",
       "  background-color: var(--sklearn-color-unfitted-level-0);\n",
       "}\n",
       "\n",
       "#sk-container-id-2 div.sk-toggleable__content.fitted {\n",
       "  /* fitted */\n",
       "  background-color: var(--sklearn-color-fitted-level-0);\n",
       "}\n",
       "\n",
       "#sk-container-id-2 div.sk-toggleable__content pre {\n",
       "  margin: 0.2em;\n",
       "  border-radius: 0.25em;\n",
       "  color: var(--sklearn-color-text);\n",
       "  /* unfitted */\n",
       "  background-color: var(--sklearn-color-unfitted-level-0);\n",
       "}\n",
       "\n",
       "#sk-container-id-2 div.sk-toggleable__content.fitted pre {\n",
       "  /* unfitted */\n",
       "  background-color: var(--sklearn-color-fitted-level-0);\n",
       "}\n",
       "\n",
       "#sk-container-id-2 input.sk-toggleable__control:checked~div.sk-toggleable__content {\n",
       "  /* Expand drop-down */\n",
       "  max-height: 200px;\n",
       "  max-width: 100%;\n",
       "  overflow: auto;\n",
       "}\n",
       "\n",
       "#sk-container-id-2 input.sk-toggleable__control:checked~label.sk-toggleable__label-arrow:before {\n",
       "  content: \"▾\";\n",
       "}\n",
       "\n",
       "/* Pipeline/ColumnTransformer-specific style */\n",
       "\n",
       "#sk-container-id-2 div.sk-label input.sk-toggleable__control:checked~label.sk-toggleable__label {\n",
       "  color: var(--sklearn-color-text);\n",
       "  background-color: var(--sklearn-color-unfitted-level-2);\n",
       "}\n",
       "\n",
       "#sk-container-id-2 div.sk-label.fitted input.sk-toggleable__control:checked~label.sk-toggleable__label {\n",
       "  background-color: var(--sklearn-color-fitted-level-2);\n",
       "}\n",
       "\n",
       "/* Estimator-specific style */\n",
       "\n",
       "/* Colorize estimator box */\n",
       "#sk-container-id-2 div.sk-estimator input.sk-toggleable__control:checked~label.sk-toggleable__label {\n",
       "  /* unfitted */\n",
       "  background-color: var(--sklearn-color-unfitted-level-2);\n",
       "}\n",
       "\n",
       "#sk-container-id-2 div.sk-estimator.fitted input.sk-toggleable__control:checked~label.sk-toggleable__label {\n",
       "  /* fitted */\n",
       "  background-color: var(--sklearn-color-fitted-level-2);\n",
       "}\n",
       "\n",
       "#sk-container-id-2 div.sk-label label.sk-toggleable__label,\n",
       "#sk-container-id-2 div.sk-label label {\n",
       "  /* The background is the default theme color */\n",
       "  color: var(--sklearn-color-text-on-default-background);\n",
       "}\n",
       "\n",
       "/* On hover, darken the color of the background */\n",
       "#sk-container-id-2 div.sk-label:hover label.sk-toggleable__label {\n",
       "  color: var(--sklearn-color-text);\n",
       "  background-color: var(--sklearn-color-unfitted-level-2);\n",
       "}\n",
       "\n",
       "/* Label box, darken color on hover, fitted */\n",
       "#sk-container-id-2 div.sk-label.fitted:hover label.sk-toggleable__label.fitted {\n",
       "  color: var(--sklearn-color-text);\n",
       "  background-color: var(--sklearn-color-fitted-level-2);\n",
       "}\n",
       "\n",
       "/* Estimator label */\n",
       "\n",
       "#sk-container-id-2 div.sk-label label {\n",
       "  font-family: monospace;\n",
       "  font-weight: bold;\n",
       "  display: inline-block;\n",
       "  line-height: 1.2em;\n",
       "}\n",
       "\n",
       "#sk-container-id-2 div.sk-label-container {\n",
       "  text-align: center;\n",
       "}\n",
       "\n",
       "/* Estimator-specific */\n",
       "#sk-container-id-2 div.sk-estimator {\n",
       "  font-family: monospace;\n",
       "  border: 1px dotted var(--sklearn-color-border-box);\n",
       "  border-radius: 0.25em;\n",
       "  box-sizing: border-box;\n",
       "  margin-bottom: 0.5em;\n",
       "  /* unfitted */\n",
       "  background-color: var(--sklearn-color-unfitted-level-0);\n",
       "}\n",
       "\n",
       "#sk-container-id-2 div.sk-estimator.fitted {\n",
       "  /* fitted */\n",
       "  background-color: var(--sklearn-color-fitted-level-0);\n",
       "}\n",
       "\n",
       "/* on hover */\n",
       "#sk-container-id-2 div.sk-estimator:hover {\n",
       "  /* unfitted */\n",
       "  background-color: var(--sklearn-color-unfitted-level-2);\n",
       "}\n",
       "\n",
       "#sk-container-id-2 div.sk-estimator.fitted:hover {\n",
       "  /* fitted */\n",
       "  background-color: var(--sklearn-color-fitted-level-2);\n",
       "}\n",
       "\n",
       "/* Specification for estimator info (e.g. \"i\" and \"?\") */\n",
       "\n",
       "/* Common style for \"i\" and \"?\" */\n",
       "\n",
       ".sk-estimator-doc-link,\n",
       "a:link.sk-estimator-doc-link,\n",
       "a:visited.sk-estimator-doc-link {\n",
       "  float: right;\n",
       "  font-size: smaller;\n",
       "  line-height: 1em;\n",
       "  font-family: monospace;\n",
       "  background-color: var(--sklearn-color-background);\n",
       "  border-radius: 1em;\n",
       "  height: 1em;\n",
       "  width: 1em;\n",
       "  text-decoration: none !important;\n",
       "  margin-left: 1ex;\n",
       "  /* unfitted */\n",
       "  border: var(--sklearn-color-unfitted-level-1) 1pt solid;\n",
       "  color: var(--sklearn-color-unfitted-level-1);\n",
       "}\n",
       "\n",
       ".sk-estimator-doc-link.fitted,\n",
       "a:link.sk-estimator-doc-link.fitted,\n",
       "a:visited.sk-estimator-doc-link.fitted {\n",
       "  /* fitted */\n",
       "  border: var(--sklearn-color-fitted-level-1) 1pt solid;\n",
       "  color: var(--sklearn-color-fitted-level-1);\n",
       "}\n",
       "\n",
       "/* On hover */\n",
       "div.sk-estimator:hover .sk-estimator-doc-link:hover,\n",
       ".sk-estimator-doc-link:hover,\n",
       "div.sk-label-container:hover .sk-estimator-doc-link:hover,\n",
       ".sk-estimator-doc-link:hover {\n",
       "  /* unfitted */\n",
       "  background-color: var(--sklearn-color-unfitted-level-3);\n",
       "  color: var(--sklearn-color-background);\n",
       "  text-decoration: none;\n",
       "}\n",
       "\n",
       "div.sk-estimator.fitted:hover .sk-estimator-doc-link.fitted:hover,\n",
       ".sk-estimator-doc-link.fitted:hover,\n",
       "div.sk-label-container:hover .sk-estimator-doc-link.fitted:hover,\n",
       ".sk-estimator-doc-link.fitted:hover {\n",
       "  /* fitted */\n",
       "  background-color: var(--sklearn-color-fitted-level-3);\n",
       "  color: var(--sklearn-color-background);\n",
       "  text-decoration: none;\n",
       "}\n",
       "\n",
       "/* Span, style for the box shown on hovering the info icon */\n",
       ".sk-estimator-doc-link span {\n",
       "  display: none;\n",
       "  z-index: 9999;\n",
       "  position: relative;\n",
       "  font-weight: normal;\n",
       "  right: .2ex;\n",
       "  padding: .5ex;\n",
       "  margin: .5ex;\n",
       "  width: min-content;\n",
       "  min-width: 20ex;\n",
       "  max-width: 50ex;\n",
       "  color: var(--sklearn-color-text);\n",
       "  box-shadow: 2pt 2pt 4pt #999;\n",
       "  /* unfitted */\n",
       "  background: var(--sklearn-color-unfitted-level-0);\n",
       "  border: .5pt solid var(--sklearn-color-unfitted-level-3);\n",
       "}\n",
       "\n",
       ".sk-estimator-doc-link.fitted span {\n",
       "  /* fitted */\n",
       "  background: var(--sklearn-color-fitted-level-0);\n",
       "  border: var(--sklearn-color-fitted-level-3);\n",
       "}\n",
       "\n",
       ".sk-estimator-doc-link:hover span {\n",
       "  display: block;\n",
       "}\n",
       "\n",
       "/* \"?\"-specific style due to the `<a>` HTML tag */\n",
       "\n",
       "#sk-container-id-2 a.estimator_doc_link {\n",
       "  float: right;\n",
       "  font-size: 1rem;\n",
       "  line-height: 1em;\n",
       "  font-family: monospace;\n",
       "  background-color: var(--sklearn-color-background);\n",
       "  border-radius: 1rem;\n",
       "  height: 1rem;\n",
       "  width: 1rem;\n",
       "  text-decoration: none;\n",
       "  /* unfitted */\n",
       "  color: var(--sklearn-color-unfitted-level-1);\n",
       "  border: var(--sklearn-color-unfitted-level-1) 1pt solid;\n",
       "}\n",
       "\n",
       "#sk-container-id-2 a.estimator_doc_link.fitted {\n",
       "  /* fitted */\n",
       "  border: var(--sklearn-color-fitted-level-1) 1pt solid;\n",
       "  color: var(--sklearn-color-fitted-level-1);\n",
       "}\n",
       "\n",
       "/* On hover */\n",
       "#sk-container-id-2 a.estimator_doc_link:hover {\n",
       "  /* unfitted */\n",
       "  background-color: var(--sklearn-color-unfitted-level-3);\n",
       "  color: var(--sklearn-color-background);\n",
       "  text-decoration: none;\n",
       "}\n",
       "\n",
       "#sk-container-id-2 a.estimator_doc_link.fitted:hover {\n",
       "  /* fitted */\n",
       "  background-color: var(--sklearn-color-fitted-level-3);\n",
       "}\n",
       "</style><div id=\"sk-container-id-2\" class=\"sk-top-container\"><div class=\"sk-text-repr-fallback\"><pre>Pipeline(steps=[(&#x27;preprocessor&#x27;,\n",
       "                 ColumnTransformer(transformers=[(&#x27;cat&#x27;, OneHotEncoder(),\n",
       "                                                  [&#x27;BMI Category&#x27;]),\n",
       "                                                 (&#x27;num&#x27;, StandardScaler(),\n",
       "                                                  [&#x27;Age&#x27;, &#x27;Sleep Duration&#x27;,\n",
       "                                                   &#x27;Physical Activity Level&#x27;,\n",
       "                                                   &#x27;Quality of Sleep&#x27;,\n",
       "                                                   &#x27;Stress Level&#x27;,\n",
       "                                                   &#x27;Daily Steps&#x27;,\n",
       "                                                   &#x27;Heart Rate&#x27;])])),\n",
       "                (&#x27;classifier&#x27;, DecisionTreeClassifier(random_state=42))])</pre><b>In a Jupyter environment, please rerun this cell to show the HTML representation or trust the notebook. <br />On GitHub, the HTML representation is unable to render, please try loading this page with nbviewer.org.</b></div><div class=\"sk-container\" hidden><div class=\"sk-item sk-dashed-wrapped\"><div class=\"sk-label-container\"><div class=\"sk-label fitted sk-toggleable\"><input class=\"sk-toggleable__control sk-hidden--visually\" id=\"sk-estimator-id-8\" type=\"checkbox\" ><label for=\"sk-estimator-id-8\" class=\"sk-toggleable__label fitted sk-toggleable__label-arrow fitted\">&nbsp;&nbsp;Pipeline<a class=\"sk-estimator-doc-link fitted\" rel=\"noreferrer\" target=\"_blank\" href=\"https://scikit-learn.org/1.5/modules/generated/sklearn.pipeline.Pipeline.html\">?<span>Documentation for Pipeline</span></a><span class=\"sk-estimator-doc-link fitted\">i<span>Fitted</span></span></label><div class=\"sk-toggleable__content fitted\"><pre>Pipeline(steps=[(&#x27;preprocessor&#x27;,\n",
       "                 ColumnTransformer(transformers=[(&#x27;cat&#x27;, OneHotEncoder(),\n",
       "                                                  [&#x27;BMI Category&#x27;]),\n",
       "                                                 (&#x27;num&#x27;, StandardScaler(),\n",
       "                                                  [&#x27;Age&#x27;, &#x27;Sleep Duration&#x27;,\n",
       "                                                   &#x27;Physical Activity Level&#x27;,\n",
       "                                                   &#x27;Quality of Sleep&#x27;,\n",
       "                                                   &#x27;Stress Level&#x27;,\n",
       "                                                   &#x27;Daily Steps&#x27;,\n",
       "                                                   &#x27;Heart Rate&#x27;])])),\n",
       "                (&#x27;classifier&#x27;, DecisionTreeClassifier(random_state=42))])</pre></div> </div></div><div class=\"sk-serial\"><div class=\"sk-item sk-dashed-wrapped\"><div class=\"sk-label-container\"><div class=\"sk-label fitted sk-toggleable\"><input class=\"sk-toggleable__control sk-hidden--visually\" id=\"sk-estimator-id-9\" type=\"checkbox\" ><label for=\"sk-estimator-id-9\" class=\"sk-toggleable__label fitted sk-toggleable__label-arrow fitted\">&nbsp;preprocessor: ColumnTransformer<a class=\"sk-estimator-doc-link fitted\" rel=\"noreferrer\" target=\"_blank\" href=\"https://scikit-learn.org/1.5/modules/generated/sklearn.compose.ColumnTransformer.html\">?<span>Documentation for preprocessor: ColumnTransformer</span></a></label><div class=\"sk-toggleable__content fitted\"><pre>ColumnTransformer(transformers=[(&#x27;cat&#x27;, OneHotEncoder(), [&#x27;BMI Category&#x27;]),\n",
       "                                (&#x27;num&#x27;, StandardScaler(),\n",
       "                                 [&#x27;Age&#x27;, &#x27;Sleep Duration&#x27;,\n",
       "                                  &#x27;Physical Activity Level&#x27;, &#x27;Quality of Sleep&#x27;,\n",
       "                                  &#x27;Stress Level&#x27;, &#x27;Daily Steps&#x27;,\n",
       "                                  &#x27;Heart Rate&#x27;])])</pre></div> </div></div><div class=\"sk-parallel\"><div class=\"sk-parallel-item\"><div class=\"sk-item\"><div class=\"sk-label-container\"><div class=\"sk-label fitted sk-toggleable\"><input class=\"sk-toggleable__control sk-hidden--visually\" id=\"sk-estimator-id-10\" type=\"checkbox\" ><label for=\"sk-estimator-id-10\" class=\"sk-toggleable__label fitted sk-toggleable__label-arrow fitted\">cat</label><div class=\"sk-toggleable__content fitted\"><pre>[&#x27;BMI Category&#x27;]</pre></div> </div></div><div class=\"sk-serial\"><div class=\"sk-item\"><div class=\"sk-estimator fitted sk-toggleable\"><input class=\"sk-toggleable__control sk-hidden--visually\" id=\"sk-estimator-id-11\" type=\"checkbox\" ><label for=\"sk-estimator-id-11\" class=\"sk-toggleable__label fitted sk-toggleable__label-arrow fitted\">&nbsp;OneHotEncoder<a class=\"sk-estimator-doc-link fitted\" rel=\"noreferrer\" target=\"_blank\" href=\"https://scikit-learn.org/1.5/modules/generated/sklearn.preprocessing.OneHotEncoder.html\">?<span>Documentation for OneHotEncoder</span></a></label><div class=\"sk-toggleable__content fitted\"><pre>OneHotEncoder()</pre></div> </div></div></div></div></div><div class=\"sk-parallel-item\"><div class=\"sk-item\"><div class=\"sk-label-container\"><div class=\"sk-label fitted sk-toggleable\"><input class=\"sk-toggleable__control sk-hidden--visually\" id=\"sk-estimator-id-12\" type=\"checkbox\" ><label for=\"sk-estimator-id-12\" class=\"sk-toggleable__label fitted sk-toggleable__label-arrow fitted\">num</label><div class=\"sk-toggleable__content fitted\"><pre>[&#x27;Age&#x27;, &#x27;Sleep Duration&#x27;, &#x27;Physical Activity Level&#x27;, &#x27;Quality of Sleep&#x27;, &#x27;Stress Level&#x27;, &#x27;Daily Steps&#x27;, &#x27;Heart Rate&#x27;]</pre></div> </div></div><div class=\"sk-serial\"><div class=\"sk-item\"><div class=\"sk-estimator fitted sk-toggleable\"><input class=\"sk-toggleable__control sk-hidden--visually\" id=\"sk-estimator-id-13\" type=\"checkbox\" ><label for=\"sk-estimator-id-13\" class=\"sk-toggleable__label fitted sk-toggleable__label-arrow fitted\">&nbsp;StandardScaler<a class=\"sk-estimator-doc-link fitted\" rel=\"noreferrer\" target=\"_blank\" href=\"https://scikit-learn.org/1.5/modules/generated/sklearn.preprocessing.StandardScaler.html\">?<span>Documentation for StandardScaler</span></a></label><div class=\"sk-toggleable__content fitted\"><pre>StandardScaler()</pre></div> </div></div></div></div></div></div></div><div class=\"sk-item\"><div class=\"sk-estimator fitted sk-toggleable\"><input class=\"sk-toggleable__control sk-hidden--visually\" id=\"sk-estimator-id-14\" type=\"checkbox\" ><label for=\"sk-estimator-id-14\" class=\"sk-toggleable__label fitted sk-toggleable__label-arrow fitted\">&nbsp;DecisionTreeClassifier<a class=\"sk-estimator-doc-link fitted\" rel=\"noreferrer\" target=\"_blank\" href=\"https://scikit-learn.org/1.5/modules/generated/sklearn.tree.DecisionTreeClassifier.html\">?<span>Documentation for DecisionTreeClassifier</span></a></label><div class=\"sk-toggleable__content fitted\"><pre>DecisionTreeClassifier(random_state=42)</pre></div> </div></div></div></div></div></div>"
      ],
      "text/plain": [
       "Pipeline(steps=[('preprocessor',\n",
       "                 ColumnTransformer(transformers=[('cat', OneHotEncoder(),\n",
       "                                                  ['BMI Category']),\n",
       "                                                 ('num', StandardScaler(),\n",
       "                                                  ['Age', 'Sleep Duration',\n",
       "                                                   'Physical Activity Level',\n",
       "                                                   'Quality of Sleep',\n",
       "                                                   'Stress Level',\n",
       "                                                   'Daily Steps',\n",
       "                                                   'Heart Rate'])])),\n",
       "                ('classifier', DecisionTreeClassifier(random_state=42))])"
      ]
     },
     "execution_count": 168,
     "metadata": {},
     "output_type": "execute_result"
    }
   ],
   "source": [
    "# Use 'model_dia' to train X_train and y_train\n",
    "model_dia.fit(X_train, y_train)"
   ]
  },
  {
   "cell_type": "code",
   "execution_count": 169,
   "id": "92cdb3eb-174a-4615-a17e-7279c51ccfb7",
   "metadata": {},
   "outputs": [
    {
     "name": "stdout",
     "output_type": "stream",
     "text": [
      "accuracy baseline: 0.59\n"
     ]
    }
   ],
   "source": [
    "# Determine the baseline accuracy 'acc_baseline' \n",
    "acc_baseline  = y_train.value_counts(normalize=True).max()\n",
    "print(\"accuracy baseline:\", round(acc_baseline, 2))"
   ]
  },
  {
   "cell_type": "code",
   "execution_count": 136,
   "id": "d82c9a85-068a-4aa8-9b03-6dca9873b1c6",
   "metadata": {},
   "outputs": [],
   "source": [
    "# TIME TO EVALUATE OUR MODEL_DIA"
   ]
  },
  {
   "cell_type": "code",
   "execution_count": 170,
   "id": "c6b6328a-8317-4e1a-a85e-99a6f893560b",
   "metadata": {},
   "outputs": [
    {
     "name": "stdout",
     "output_type": "stream",
     "text": [
      "1.0\n",
      "1.0\n"
     ]
    }
   ],
   "source": [
    "# Calculate the training and test accuracy for model_dia\n",
    "acc_train = model_dia.score(X_train, y_train)\n",
    "acc_test = model_dia.score(X_test, y_test)\n",
    "\n",
    "print(round(acc_train, 2))\n",
    "print(round(acc_test, 2))"
   ]
  },
  {
   "cell_type": "code",
   "execution_count": 171,
   "id": "e853f31a-8a84-4f1b-a234-fceab417e403",
   "metadata": {},
   "outputs": [
    {
     "data": {
      "text/plain": [
       "array([0, 0, 0, 0, 0])"
      ]
     },
     "execution_count": 171,
     "metadata": {},
     "output_type": "execute_result"
    }
   ],
   "source": [
    "# Let's make prediction 'y_pred' from model_dia with'X_test' values\n",
    "y_pred = model_dia.predict(X_test)\n",
    "y_pred[:5]"
   ]
  },
  {
   "cell_type": "code",
   "execution_count": 141,
   "id": "c7245189-079e-4b5b-93a0-e72f98103b3f",
   "metadata": {},
   "outputs": [],
   "source": [
    "# LET'S GET FEATURES AND IMPORTANCES FROM OUR MODEL_DIA"
   ]
  },
  {
   "cell_type": "code",
   "execution_count": 172,
   "id": "8c651ab4-81b5-4f3b-a47d-9d59bb56d12d",
   "metadata": {},
   "outputs": [],
   "source": [
    "# Let's access the preprocessor and the classifier\n",
    "preprocessor = model_dia.named_steps[\"preprocessor\"]\n",
    "classifier = model_dia.named_steps[\"classifier\"]"
   ]
  },
  {
   "cell_type": "code",
   "execution_count": 173,
   "id": "4625ee89-eab3-4021-ae78-50eedce8252b",
   "metadata": {},
   "outputs": [],
   "source": [
    "# Let's get Feature names from the preprocessor\n",
    "onehot_cols = preprocessor.transformers_[0][1].get_feature_names_out(cat_cols)\n",
    "scaled_cols = num_cols"
   ]
  },
  {
   "cell_type": "code",
   "execution_count": 174,
   "id": "a8bde4dd-4d88-4fef-9421-98ebe1d02d73",
   "metadata": {},
   "outputs": [],
   "source": [
    "# Now let's combine feature names in a variable 'feature_name'\n",
    "feature_name = list(onehot_cols) + list(scaled_cols)"
   ]
  },
  {
   "cell_type": "code",
   "execution_count": 175,
   "id": "c176f7df-4a93-443f-ba94-39f753925c22",
   "metadata": {},
   "outputs": [],
   "source": [
    "# Get feature importances from the classifier\n",
    "importances = classifier.feature_importances_"
   ]
  },
  {
   "cell_type": "code",
   "execution_count": 176,
   "id": "649764e2-ccb0-400e-9de6-a84dfb7a2dc9",
   "metadata": {},
   "outputs": [
    {
     "name": "stdout",
     "output_type": "stream",
     "text": [
      "                            importances\n",
      "feature                                \n",
      "BMI Category_Overweight        0.443396\n",
      "Heart Rate                     0.247151\n",
      "Physical Activity Level        0.212142\n",
      "Daily Steps                    0.082361\n",
      "Quality of Sleep               0.013334\n",
      "BMI Category_Normal Weight     0.001220\n",
      "Age                            0.000397\n",
      "BMI Category_Obese             0.000000\n",
      "BMI Category_Normal            0.000000\n",
      "Sleep Duration                 0.000000\n",
      "Stress Level                   0.000000\n"
     ]
    }
   ],
   "source": [
    "# Create a data frame named 'feat_imp'\n",
    "feat_imp = pd.DataFrame({\n",
    "    \"feature\": feature_name,\n",
    "    \"importances\": importances\n",
    "}).sort_values(by=\"importances\", ascending=False).set_index(\"feature\")\n",
    "print(feat_imp)"
   ]
  },
  {
   "cell_type": "code",
   "execution_count": 177,
   "id": "227a10a3-e822-4757-b863-14273d0b4393",
   "metadata": {},
   "outputs": [
    {
     "data": {
      "image/png": "[encoded data removed]",
      "text/plain": [
       "<Figure size 640x480 with 1 Axes>"
      ]
     },
     "metadata": {},
     "output_type": "display_data"
    }
   ],
   "source": [
    "# Let's communicate predictions from model_dia with bar chart\n",
    "feat_imp.plot(kind= \"bar\", xlabel=\"Gini Importances\", ylabel=\"Features\");"
   ]
  },
  {
   "cell_type": "code",
   "execution_count": null,
   "id": "ab82e7a0-70fc-4364-b17c-021e86c6d659",
   "metadata": {},
   "outputs": [],
   "source": []
  }
 ],
 "metadata": {
  "kernelspec": {
   "display_name": "Python 3 (ipykernel)",
   "language": "python",
   "name": "python3"
  },
  "language_info": {
   "codemirror_mode": {
    "name": "ipython",
    "version": 3
   },
   "file_extension": ".py",
   "mimetype": "text/x-python",
   "name": "python",
   "nbconvert_exporter": "python",
   "pygments_lexer": "ipython3",
   "version": "3.12.3"
  }
 },
 "nbformat": 4,
 "nbformat_minor": 5
}
